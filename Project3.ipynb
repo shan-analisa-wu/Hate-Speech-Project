{
 "cells": [
  {
   "cell_type": "markdown",
   "metadata": {},
   "source": [
    "# How is hate speech about Novel Coronavirus differ by stages?"
   ]
  },
  {
   "cell_type": "markdown",
   "metadata": {},
   "source": [
    "**Team:** Project Group 5\n",
    "\n",
    "**Members:** Elsa Tseng(yiting), Manning Luo(lmanni8), Shan Wu(anali99)"
   ]
  },
  {
   "cell_type": "markdown",
   "metadata": {},
   "source": [
    "Is the hate seech about COVID-19 changing these days? I think it is a Yes. With the extremely fast spreading of the Coronavirus across the world, Americans' attitude towards this virus change throughout these months. Our topic for this project is about the hate speech corresponding to the Novel Coronavirus over months."
   ]
  },
  {
   "cell_type": "markdown",
   "metadata": {},
   "source": [
    "How can we define \"hate speech\"? Hate speech is generally defined as \"pulic speech that expresses hate or encourages violence towards a person or group based on something such as race, religion, sex, or sexual orientation\"[1]. In this case, hate speech is specificlly defined as public speech expresses hate towards the China, which is the first victim of the virus and also is temporarily considered as the birthplace of the virus. \n",
    "\n",
    "[1] https://dictionary.cambridge.org/us/dictionary/english/hate-speech"
   ]
  },
  {
   "cell_type": "markdown",
   "metadata": {},
   "source": [
    "To prove that the hate speech does change in different months, we will collect a large number of posts on twitter and separate them into different group by the data they were posted. There are lots of social media plateform we can do these. We are choosing Twitter since it is one of the largest information sharing platform. There are more than 330 million users currently have a Twitter account. Thus, we believe, this source will give us useful and comprehensive information about the Novel Coronavirus, which then can be used to analysis and identify the hate speech in order to calculate and study on the use of hate speech over time."
   ]
  },
  {
   "cell_type": "markdown",
   "metadata": {},
   "source": [
    "In step 1,we scrape the data from Twitter and only posts with keyword \"COVID-19\", \"coronavirus\" and \"chinese virus\" are considered as useful for out research."
   ]
  },
  {
   "cell_type": "code",
   "execution_count": 1,
   "metadata": {},
   "outputs": [],
   "source": [
    "import json\n",
    "import tweepy\n",
    "import GetOldTweets3 as got\n",
    "from pandas import DataFrame"
   ]
  },
  {
   "cell_type": "markdown",
   "metadata": {},
   "source": [
    "We scrape 1000 posts with key word \"COVID-19\" posted in January."
   ]
  },
  {
   "cell_type": "code",
   "execution_count": 2,
   "metadata": {},
   "outputs": [],
   "source": [
    "tweetCriteria = got.manager.TweetCriteria().setQuerySearch(\"COVID-19\")\\\n",
    "                                           .setLang('en')\\\n",
    "                                           .setSince(\"2020-01-01\")\\\n",
    "                                           .setUntil(\"2020-01-31\")\\\n",
    "                                           .setMaxTweets(1000)\n",
    "tweets = got.manager.TweetManager.getTweets(tweetCriteria)\n",
    "\n",
    "outtweets = [[tweet.username, \n",
    "              tweet.date,  \n",
    "              tweet.text.encode(\"utf-8\").decode(\"utf-8\")] \n",
    "             for idx,tweet in enumerate(tweets)]\n",
    "df = DataFrame(outtweets,columns=[\"user\",\"created_at\",\"text\"])\n",
    "df.to_csv('covid19_Jan.csv',index=False)"
   ]
  },
  {
   "cell_type": "markdown",
   "metadata": {},
   "source": [
    "We scrape the posts with key word \"COVID-19\" posted in February."
   ]
  },
  {
   "cell_type": "code",
   "execution_count": 3,
   "metadata": {},
   "outputs": [],
   "source": [
    "tweetCriteria = got.manager.TweetCriteria().setQuerySearch(\"COVID-19\")\\\n",
    "                                           .setLang('en')\\\n",
    "                                           .setSince(\"2020-02-01\")\\\n",
    "                                           .setUntil(\"2020-02-29\")\\\n",
    "                                           .setMaxTweets(1000)\n",
    "tweets = got.manager.TweetManager.getTweets(tweetCriteria)\n",
    "\n",
    "outtweets = [[tweet.username, \n",
    "              tweet.date,  \n",
    "              tweet.text.encode(\"utf-8\").decode(\"utf-8\")] \n",
    "             for idx,tweet in enumerate(tweets)]\n",
    "df = DataFrame(outtweets,columns=[\"user\",\"created_at\",\"text\"])\n",
    "df.to_csv('covid19_Feb.csv',index=False)"
   ]
  },
  {
   "cell_type": "markdown",
   "metadata": {},
   "source": [
    "We scrape the posts with key word \"COVID-19\" posted in March."
   ]
  },
  {
   "cell_type": "code",
   "execution_count": 4,
   "metadata": {},
   "outputs": [],
   "source": [
    "tweetCriteria = got.manager.TweetCriteria().setQuerySearch(\"COVID-19\")\\\n",
    "                                           .setLang('en')\\\n",
    "                                           .setSince(\"2020-03-01\")\\\n",
    "                                           .setUntil(\"2020-03-31\")\\\n",
    "                                           .setMaxTweets(1000)\n",
    "tweets = got.manager.TweetManager.getTweets(tweetCriteria)\n",
    "\n",
    "outtweets = [[tweet.username, \n",
    "              tweet.date,  \n",
    "              tweet.text.encode(\"utf-8\").decode(\"utf-8\")] \n",
    "             for idx,tweet in enumerate(tweets)]\n",
    "df = DataFrame(outtweets,columns=[\"user\",\"created_at\",\"text\"])\n",
    "df.to_csv('covid19_Mar.csv',index=False)"
   ]
  },
  {
   "cell_type": "markdown",
   "metadata": {},
   "source": [
    "We scrape the posts with key word \"COVID-19\" posted in April."
   ]
  },
  {
   "cell_type": "code",
   "execution_count": 5,
   "metadata": {},
   "outputs": [],
   "source": [
    "tweetCriteria = got.manager.TweetCriteria().setQuerySearch(\"COVID-19\")\\\n",
    "                                           .setLang('en')\\\n",
    "                                           .setSince(\"2020-04-01\")\\\n",
    "                                           .setUntil(\"2020-04-21\")\\\n",
    "                                           .setMaxTweets(1000)\n",
    "tweets = got.manager.TweetManager.getTweets(tweetCriteria)\n",
    "\n",
    "outtweets = [[tweet.username, \n",
    "              tweet.date,  \n",
    "              tweet.text.encode(\"utf-8\").decode(\"utf-8\")] \n",
    "             for idx,tweet in enumerate(tweets)]\n",
    "df = DataFrame(outtweets,columns=[\"user\",\"created_at\",\"text\"])\n",
    "df.to_csv('covid19_Apr.csv',index=False)"
   ]
  },
  {
   "cell_type": "markdown",
   "metadata": {},
   "source": [
    "We scrape the posts with key word \"coronavirus\" posted in January."
   ]
  },
  {
   "cell_type": "code",
   "execution_count": 6,
   "metadata": {},
   "outputs": [],
   "source": [
    "tweetCriteria = got.manager.TweetCriteria().setQuerySearch(\"coronavirus\")\\\n",
    "                                           .setSince(\"2020-01-01\")\\\n",
    "                                           .setLang('en')\\\n",
    "                                           .setUntil(\"2020-01-31\")\\\n",
    "                                           .setMaxTweets(1000)\n",
    "tweets = got.manager.TweetManager.getTweets(tweetCriteria)\n",
    "\n",
    "outtweets = [[tweet.username, \n",
    "              tweet.date,  \n",
    "              tweet.text.encode(\"utf-8\").decode(\"utf-8\")] \n",
    "             for idx,tweet in enumerate(tweets)]\n",
    "df = DataFrame(outtweets,columns=[\"user\",\"created_at\",\"text\"])\n",
    "df.to_csv('coronavirus_Jan.csv',index=False)"
   ]
  },
  {
   "cell_type": "markdown",
   "metadata": {},
   "source": [
    "We scrape the posts with key word \"coronavirus\" posted in February."
   ]
  },
  {
   "cell_type": "code",
   "execution_count": 7,
   "metadata": {},
   "outputs": [],
   "source": [
    "tweetCriteria = got.manager.TweetCriteria().setQuerySearch(\"coronavirus\")\\\n",
    "                                           .setSince(\"2020-02-01\")\\\n",
    "                                           .setLang('en')\\\n",
    "                                           .setUntil(\"2020-02-29\")\\\n",
    "                                           .setMaxTweets(1000)\n",
    "tweets = got.manager.TweetManager.getTweets(tweetCriteria)\n",
    "\n",
    "outtweets = [[tweet.username, \n",
    "              tweet.date,  \n",
    "              tweet.text.encode(\"utf-8\").decode(\"utf-8\")] \n",
    "             for idx,tweet in enumerate(tweets)]\n",
    "df = DataFrame(outtweets,columns=[\"user\",\"created_at\",\"text\"])\n",
    "df.to_csv('coronavirus_Feb.csv',index=False)"
   ]
  },
  {
   "cell_type": "markdown",
   "metadata": {},
   "source": [
    "We scrape the posts with key word \"coronavirus\" posted in March."
   ]
  },
  {
   "cell_type": "code",
   "execution_count": 8,
   "metadata": {},
   "outputs": [],
   "source": [
    "tweetCriteria = got.manager.TweetCriteria().setQuerySearch(\"coronavirus\")\\\n",
    "                                           .setSince(\"2020-03-01\")\\\n",
    "                                           .setLang('en')\\\n",
    "                                           .setUntil(\"2020-03-31\")\\\n",
    "                                           .setMaxTweets(1000)\n",
    "tweets = got.manager.TweetManager.getTweets(tweetCriteria)\n",
    "\n",
    "outtweets = [[tweet.username, \n",
    "              tweet.date,  \n",
    "              tweet.text.encode(\"utf-8\").decode(\"utf-8\")] \n",
    "             for idx,tweet in enumerate(tweets)]\n",
    "df = DataFrame(outtweets,columns=[\"user\",\"created_at\",\"text\"])\n",
    "df.to_csv('coronavirus_Mar.csv',index=False)"
   ]
  },
  {
   "cell_type": "markdown",
   "metadata": {},
   "source": [
    "We scrape the posts with key word \"coronavirus\" posted in April."
   ]
  },
  {
   "cell_type": "code",
   "execution_count": 9,
   "metadata": {},
   "outputs": [],
   "source": [
    "tweetCriteria = got.manager.TweetCriteria().setQuerySearch(\"coronavirus\")\\\n",
    "                                           .setSince(\"2020-04-01\")\\\n",
    "                                           .setLang('en')\\\n",
    "                                           .setUntil(\"2020-04-21\")\\\n",
    "                                           .setMaxTweets(1000)\n",
    "tweets = got.manager.TweetManager.getTweets(tweetCriteria)\n",
    "\n",
    "outtweets = [[tweet.username, \n",
    "              tweet.date,  \n",
    "              tweet.text.encode(\"utf-8\").decode(\"utf-8\")] \n",
    "             for idx,tweet in enumerate(tweets)]\n",
    "df = DataFrame(outtweets,columns=[\"user\",\"created_at\",\"text\"])\n",
    "df.to_csv('coronavirus_Apr.csv',index=False)"
   ]
  },
  {
   "cell_type": "markdown",
   "metadata": {},
   "source": [
    "We scrape the posts with key word \"chinese virus\" posted in January."
   ]
  },
  {
   "cell_type": "code",
   "execution_count": 10,
   "metadata": {},
   "outputs": [],
   "source": [
    "tweetCriteria = got.manager.TweetCriteria().setQuerySearch(\"chinese virus\")\\\n",
    "                                           .setLang('en')\\\n",
    "                                           .setSince(\"2020-01-01\")\\\n",
    "                                           .setUntil(\"2020-01-31\")\\\n",
    "                                           .setMaxTweets(1000)\n",
    "tweets = got.manager.TweetManager.getTweets(tweetCriteria)\n",
    "\n",
    "outtweets = [[tweet.username, \n",
    "              tweet.date,  \n",
    "              tweet.text.encode(\"utf-8\").decode(\"utf-8\")] \n",
    "             for idx,tweet in enumerate(tweets)]\n",
    "df = DataFrame(outtweets,columns=[\"user\",\"created_at\",\"text\"])\n",
    "df.to_csv('chinesevirus_Jan.csv',index=False)"
   ]
  },
  {
   "cell_type": "markdown",
   "metadata": {},
   "source": [
    "We scrape the posts with key word \"chinese virus\" posted in February."
   ]
  },
  {
   "cell_type": "code",
   "execution_count": 11,
   "metadata": {},
   "outputs": [],
   "source": [
    "tweetCriteria = got.manager.TweetCriteria().setQuerySearch(\"chinese virus\")\\\n",
    "                                           .setLang('en')\\\n",
    "                                           .setSince(\"2020-02-01\")\\\n",
    "                                           .setUntil(\"2020-02-29\")\\\n",
    "                                           .setMaxTweets(1000)\n",
    "tweets = got.manager.TweetManager.getTweets(tweetCriteria)\n",
    "\n",
    "outtweets = [[tweet.username, \n",
    "              tweet.date,  \n",
    "              tweet.text.encode(\"utf-8\").decode(\"utf-8\")] \n",
    "             for idx,tweet in enumerate(tweets)]\n",
    "df = DataFrame(outtweets,columns=[\"user\",\"created_at\",\"text\"])\n",
    "df.to_csv('chinesevirus_Feb.csv',index=False)"
   ]
  },
  {
   "cell_type": "markdown",
   "metadata": {},
   "source": [
    "We scrape the posts with key word \"chinese virus\" posted in March."
   ]
  },
  {
   "cell_type": "code",
   "execution_count": 12,
   "metadata": {},
   "outputs": [],
   "source": [
    "tweetCriteria = got.manager.TweetCriteria().setQuerySearch(\"chinese virus\")\\\n",
    "                                           .setLang('en')\\\n",
    "                                           .setSince(\"2020-03-01\")\\\n",
    "                                           .setUntil(\"2020-03-31\")\\\n",
    "                                           .setMaxTweets(1000)\n",
    "tweets = got.manager.TweetManager.getTweets(tweetCriteria)\n",
    "\n",
    "outtweets = [[tweet.username, \n",
    "              tweet.date,  \n",
    "              tweet.text.encode(\"utf-8\").decode(\"utf-8\")] \n",
    "             for idx,tweet in enumerate(tweets)]\n",
    "df = DataFrame(outtweets,columns=[\"user\",\"created_at\",\"text\"])\n",
    "df.to_csv('chinesevirus_Mar.csv',index=False)"
   ]
  },
  {
   "cell_type": "markdown",
   "metadata": {},
   "source": [
    "We scrape the posts with key word \"chinese virus\" posted in April."
   ]
  },
  {
   "cell_type": "code",
   "execution_count": 13,
   "metadata": {},
   "outputs": [],
   "source": [
    "tweetCriteria = got.manager.TweetCriteria().setQuerySearch(\"chinese virus\")\\\n",
    "                                           .setLang('en')\\\n",
    "                                           .setSince(\"2020-04-01\")\\\n",
    "                                           .setUntil(\"2020-04-21\")\\\n",
    "                                           .setMaxTweets(1000)\n",
    "tweets = got.manager.TweetManager.getTweets(tweetCriteria)\n",
    "\n",
    "outtweets = [[tweet.username, \n",
    "              tweet.date,  \n",
    "              tweet.text.encode(\"utf-8\").decode(\"utf-8\")] \n",
    "             for idx,tweet in enumerate(tweets)]\n",
    "df = DataFrame(outtweets,columns=[\"user\",\"created_at\",\"text\"])\n",
    "df.to_csv('chinesevirus_Apr.csv',index=False)"
   ]
  },
  {
   "cell_type": "markdown",
   "metadata": {},
   "source": [
    "In the next step, we will try to figure out which of the posts that we gather contain keyword that can be defined as hate speech and do analysis on these posts."
   ]
  },
  {
   "cell_type": "markdown",
   "metadata": {},
   "source": [
    "For the first step of data analysis, we need to read all the csv files."
   ]
  },
  {
   "cell_type": "code",
   "execution_count": 16,
   "metadata": {},
   "outputs": [],
   "source": [
    "import pandas\n",
    "import nltk, re, json, io #how to download NLTK, see https://www.nltk.org/data.html \n",
    "from nltk.corpus import opinion_lexicon\n",
    "from collections import Counter\n",
    "from hatesonar import Sonar #to install run: pip install hatesonar\n",
    "from vaderSentiment.vaderSentiment import SentimentIntensityAnalyzer\n",
    "import matplotlib.pyplot as plt\n",
    "import seaborn as sns\n",
    "import numpy"
   ]
  },
  {
   "cell_type": "code",
   "execution_count": null,
   "metadata": {},
   "outputs": [
    {
     "name": "stdout",
     "output_type": "stream",
     "text": [
      "showing info https://raw.githubusercontent.com/nltk/nltk_data/gh-pages/index.xml\n"
     ]
    }
   ],
   "source": [
    "import nltk\n",
    "nltk.download()"
   ]
  },
  {
   "cell_type": "code",
   "execution_count": 7,
   "metadata": {},
   "outputs": [],
   "source": [
    "chinesevirus_Jan = pandas.read_csv('project_csv/chinesevirus_Jan.csv')\n",
    "chinesevirus_Feb = pandas.read_csv('project_csv/chinesevirus_Feb.csv')\n",
    "chinesevirus_Mar = pandas.read_csv('project_csv/chinesevirus_Mar.csv')\n",
    "chinesevirus_Apr = pandas.read_csv('project_csv/chinesevirus_Apr.csv')\n",
    "coronavirus_Jan = pandas.read_csv('project_csv/coronavirus_Jan.csv')\n",
    "coronavirus_Feb = pandas.read_csv('project_csv/coronavirus_Feb.csv')\n",
    "coronavirus_Mar = pandas.read_csv('project_csv/coronavirus_Mar.csv')\n",
    "coronavirus_Apr = pandas.read_csv('project_csv/coronavirus_Apr.csv')\n",
    "covid19_Jan = pandas.read_csv('project_csv/covid19_Jan.csv')\n",
    "covid19_Feb = pandas.read_csv('project_csv/covid19_Feb.csv')\n",
    "covid19_Mar = pandas.read_csv('project_csv/covid19_Mar.csv')\n",
    "covid19_Apr = pandas.read_csv('project_csv/covid19_Apr.csv')"
   ]
  },
  {
   "cell_type": "markdown",
   "metadata": {},
   "source": [
    "We use the special library that does the analtsis on the hate speech.\n",
    "https://pypi.org/project/hatesonar/"
   ]
  },
  {
   "cell_type": "markdown",
   "metadata": {},
   "source": [
    "We chose two words from the library as our key words to define hate speech."
   ]
  },
  {
   "cell_type": "code",
   "execution_count": 8,
   "metadata": {},
   "outputs": [
    {
     "name": "stderr",
     "output_type": "stream",
     "text": [
      "C:\\Users\\Public\\Newfolder\\lib\\site-packages\\sklearn\\base.py:253: UserWarning: Trying to unpickle estimator LogisticRegression from version 0.19.1 when using version 0.20.3. This might lead to breaking code or invalid results. Use at your own risk.\n",
      "  UserWarning)\n",
      "C:\\Users\\Public\\Newfolder\\lib\\site-packages\\sklearn\\base.py:253: UserWarning: Trying to unpickle estimator TfidfTransformer from version 0.19.1 when using version 0.20.3. This might lead to breaking code or invalid results. Use at your own risk.\n",
      "  UserWarning)\n",
      "C:\\Users\\Public\\Newfolder\\lib\\site-packages\\sklearn\\base.py:253: UserWarning: Trying to unpickle estimator TfidfVectorizer from version 0.19.1 when using version 0.20.3. This might lead to breaking code or invalid results. Use at your own risk.\n",
      "  UserWarning)\n"
     ]
    },
    {
     "data": {
      "text/plain": [
       "0.03775259629798743"
      ]
     },
     "execution_count": 8,
     "metadata": {},
     "output_type": "execute_result"
    }
   ],
   "source": [
    "sonar = Sonar()\n",
    "text = sonar.ping(text=\"die\")\n",
    "# hate speech\n",
    "text['classes'][0]['confidence']\n",
    "#offensive speech\n",
    "text['classes'][1]['confidence']"
   ]
  },
  {
   "cell_type": "markdown",
   "metadata": {},
   "source": [
    "We write a function to define a hate speech by a if statement. If the input satisties the statement, we define it as hate speech."
   ]
  },
  {
   "cell_type": "code",
   "execution_count": 9,
   "metadata": {},
   "outputs": [],
   "source": [
    "def getHateSpeech(line):\n",
    "    text = sonar.ping(text=line)\n",
    "    if text['classes'][0]['confidence'] > 0.06 or text['classes'][1]['confidence'] > 0.7:\n",
    "        return True;"
   ]
  },
  {
   "cell_type": "markdown",
   "metadata": {},
   "source": [
    "Then we do the getHateSpeech function in the potst we scraped before seperately. To do this, we first initialize the numbers of hate speech in different months to be zero and set them in a array. Then if the posts in one of the month satisfies getHateSpeech, we add one in the array element corresponding to the month and output the total number of hate speech in months. "
   ]
  },
  {
   "cell_type": "markdown",
   "metadata": {},
   "source": [
    "The following one counts the number of hate speech with keyword \"chinese virus\"."
   ]
  },
  {
   "cell_type": "code",
   "execution_count": 26,
   "metadata": {},
   "outputs": [
    {
     "data": {
      "text/plain": [
       "[188, 251, 274, 293]"
      ]
     },
     "execution_count": 26,
     "metadata": {},
     "output_type": "execute_result"
    }
   ],
   "source": [
    "chinesevirus_post = [0, 0, 0, 0]\n",
    "chinesevirus_total_post = [0, 0, 0 ,0]\n",
    "\n",
    "for line in chinesevirus_Jan['text']:\n",
    "    chinesevirus_total_post[0] = chinesevirus_total_post[0] + 1\n",
    "    if getHateSpeech(line):\n",
    "        chinesevirus_post[0] = chinesevirus_post[0] + 1\n",
    "\n",
    "for line in chinesevirus_Feb['text']:\n",
    "    chinesevirus_total_post[1] = chinesevirus_total_post[1] + 1\n",
    "    if getHateSpeech(line):\n",
    "        chinesevirus_post[1] = chinesevirus_post[1] + 1\n",
    "\n",
    "for line in chinesevirus_Mar['text']:\n",
    "    chinesevirus_total_post[2] = chinesevirus_total_post[2] + 1\n",
    "    if getHateSpeech(line):\n",
    "        chinesevirus_post[2] = chinesevirus_post[2] + 1\n",
    "        \n",
    "for line in chinesevirus_Apr['text']:\n",
    "    chinesevirus_total_post[3] = chinesevirus_total_post[3] + 1\n",
    "    if getHateSpeech(line):\n",
    "        chinesevirus_post[3] = chinesevirus_post[3] + 1\n",
    "\n",
    "chinesevirus_post   "
   ]
  },
  {
   "cell_type": "markdown",
   "metadata": {},
   "source": [
    "The following one counts the number of hate speech with keyword \"corona virus\"."
   ]
  },
  {
   "cell_type": "code",
   "execution_count": 27,
   "metadata": {},
   "outputs": [
    {
     "data": {
      "text/plain": [
       "[203, 196, 187, 184]"
      ]
     },
     "execution_count": 27,
     "metadata": {},
     "output_type": "execute_result"
    }
   ],
   "source": [
    "coronavirus_post = [0, 0, 0, 0]\n",
    "coronavirus_total_post = [0, 0, 0, 0]\n",
    "for line in coronavirus_Jan['text']:\n",
    "    coronavirus_total_post[0] = coronavirus_total_post[0] + 1\n",
    "    if getHateSpeech(line):\n",
    "        coronavirus_post[0] = coronavirus_post[0] + 1\n",
    "\n",
    "for line in coronavirus_Feb['text']:\n",
    "    coronavirus_total_post[1] = coronavirus_total_post[1] + 1\n",
    "    if getHateSpeech(line):\n",
    "        coronavirus_post[1] = coronavirus_post[1] + 1\n",
    "\n",
    "for line in coronavirus_Mar['text']:\n",
    "    coronavirus_total_post[2] = coronavirus_total_post[2] + 1\n",
    "    if getHateSpeech(line):\n",
    "        coronavirus_post[2] = coronavirus_post[2] + 1\n",
    "        \n",
    "for line in coronavirus_Apr['text']:\n",
    "    coronavirus_total_post[3] = coronavirus_total_post[3] + 1\n",
    "    if getHateSpeech(line):\n",
    "        coronavirus_post[3] = coronavirus_post[3] + 1\n",
    "coronavirus_post"
   ]
  },
  {
   "cell_type": "markdown",
   "metadata": {},
   "source": [
    "The following one counts the number of hate speech with keyword \"covid-19\"."
   ]
  },
  {
   "cell_type": "code",
   "execution_count": 28,
   "metadata": {},
   "outputs": [
    {
     "data": {
      "text/plain": [
       "[134, 203, 263, 186]"
      ]
     },
     "execution_count": 28,
     "metadata": {},
     "output_type": "execute_result"
    }
   ],
   "source": [
    "covid19_post = [0, 0, 0, 0]\n",
    "covid19_total_post = [0, 0, 0, 0]\n",
    "for line in covid19_Jan['text']:\n",
    "    covid19_total_post[0] = covid19_total_post[0] + 1\n",
    "    if getHateSpeech(line):\n",
    "        covid19_post[0] = covid19_post[0] + 1\n",
    "\n",
    "for line in covid19_Feb['text']:\n",
    "    covid19_total_post[1] = covid19_total_post[1] + 1\n",
    "    if getHateSpeech(line):\n",
    "        covid19_post[1] = covid19_post[1] + 1\n",
    "\n",
    "for line in covid19_Mar['text']:\n",
    "    covid19_total_post[2] = covid19_total_post[2] + 1\n",
    "    if getHateSpeech(line):\n",
    "        covid19_post[2] = covid19_post[2] + 1\n",
    "        \n",
    "for line in covid19_Apr['text']:\n",
    "    covid19_total_post[3] = covid19_total_post[3] + 1\n",
    "    if getHateSpeech(line):\n",
    "        covid19_post[3] = covid19_post[3] + 1\n",
    "covid19_post"
   ]
  },
  {
   "cell_type": "markdown",
   "metadata": {},
   "source": [
    "After counting the number of hate speech, we create a data frame to store all the data in the previous several steps. Besides the index of the rows, the first column is the number of hate speech with key word \"chinese virus\" from January to April. The second column is similar but with keyword \"corona virus\", the third column is also similar but with keyword \"covid-19\" and the last column is the time from Jan to Apr. "
   ]
  },
  {
   "cell_type": "code",
   "execution_count": 13,
   "metadata": {},
   "outputs": [
    {
     "data": {
      "text/html": [
       "<div>\n",
       "<style scoped>\n",
       "    .dataframe tbody tr th:only-of-type {\n",
       "        vertical-align: middle;\n",
       "    }\n",
       "\n",
       "    .dataframe tbody tr th {\n",
       "        vertical-align: top;\n",
       "    }\n",
       "\n",
       "    .dataframe thead th {\n",
       "        text-align: right;\n",
       "    }\n",
       "</style>\n",
       "<table border=\"1\" class=\"dataframe\">\n",
       "  <thead>\n",
       "    <tr style=\"text-align: right;\">\n",
       "      <th></th>\n",
       "      <th>chinesevirus</th>\n",
       "      <th>coronavirus</th>\n",
       "      <th>covid19</th>\n",
       "      <th>Time</th>\n",
       "    </tr>\n",
       "  </thead>\n",
       "  <tbody>\n",
       "    <tr>\n",
       "      <th>0</th>\n",
       "      <td>188</td>\n",
       "      <td>203</td>\n",
       "      <td>134</td>\n",
       "      <td>Jan</td>\n",
       "    </tr>\n",
       "    <tr>\n",
       "      <th>1</th>\n",
       "      <td>251</td>\n",
       "      <td>196</td>\n",
       "      <td>203</td>\n",
       "      <td>Feb</td>\n",
       "    </tr>\n",
       "    <tr>\n",
       "      <th>2</th>\n",
       "      <td>274</td>\n",
       "      <td>187</td>\n",
       "      <td>263</td>\n",
       "      <td>Mar</td>\n",
       "    </tr>\n",
       "    <tr>\n",
       "      <th>3</th>\n",
       "      <td>293</td>\n",
       "      <td>184</td>\n",
       "      <td>186</td>\n",
       "      <td>Apr</td>\n",
       "    </tr>\n",
       "  </tbody>\n",
       "</table>\n",
       "</div>"
      ],
      "text/plain": [
       "   chinesevirus  coronavirus  covid19 Time\n",
       "0           188          203      134  Jan\n",
       "1           251          196      203  Feb\n",
       "2           274          187      263  Mar\n",
       "3           293          184      186  Apr"
      ]
     },
     "execution_count": 13,
     "metadata": {},
     "output_type": "execute_result"
    }
   ],
   "source": [
    "Name = ['chinesevirus','coronavirus','covid19']\n",
    "list = [chinesevirus_post,coronavirus_post,covid19_post]\n",
    "df = pandas.DataFrame(list)\n",
    "df1 = df\n",
    "df = df.transpose()\n",
    "df.columns = ['chinesevirus','coronavirus','covid19']\n",
    "df['Time'] = ['Jan', 'Feb', 'Mar', 'Apr']\n",
    "df"
   ]
  },
  {
   "cell_type": "code",
   "execution_count": 17,
   "metadata": {},
   "outputs": [
    {
     "data": {
      "text/html": [
       "<div>\n",
       "<style scoped>\n",
       "    .dataframe tbody tr th:only-of-type {\n",
       "        vertical-align: middle;\n",
       "    }\n",
       "\n",
       "    .dataframe tbody tr th {\n",
       "        vertical-align: top;\n",
       "    }\n",
       "\n",
       "    .dataframe thead th {\n",
       "        text-align: right;\n",
       "    }\n",
       "</style>\n",
       "<table border=\"1\" class=\"dataframe\">\n",
       "  <thead>\n",
       "    <tr style=\"text-align: right;\">\n",
       "      <th></th>\n",
       "      <th>chinesevirus</th>\n",
       "      <th>coronavirus</th>\n",
       "      <th>covid19</th>\n",
       "      <th>Time</th>\n",
       "    </tr>\n",
       "  </thead>\n",
       "  <tbody>\n",
       "    <tr>\n",
       "      <th>0</th>\n",
       "      <td>0.188</td>\n",
       "      <td>0.203</td>\n",
       "      <td>0.134</td>\n",
       "      <td>Jan</td>\n",
       "    </tr>\n",
       "    <tr>\n",
       "      <th>1</th>\n",
       "      <td>0.251</td>\n",
       "      <td>0.196</td>\n",
       "      <td>0.203</td>\n",
       "      <td>Feb</td>\n",
       "    </tr>\n",
       "    <tr>\n",
       "      <th>2</th>\n",
       "      <td>0.274</td>\n",
       "      <td>0.187</td>\n",
       "      <td>0.263</td>\n",
       "      <td>Mar</td>\n",
       "    </tr>\n",
       "    <tr>\n",
       "      <th>3</th>\n",
       "      <td>0.293</td>\n",
       "      <td>0.184</td>\n",
       "      <td>0.186</td>\n",
       "      <td>Apr</td>\n",
       "    </tr>\n",
       "  </tbody>\n",
       "</table>\n",
       "</div>"
      ],
      "text/plain": [
       "   chinesevirus  coronavirus  covid19 Time\n",
       "0         0.188        0.203    0.134  Jan\n",
       "1         0.251        0.196    0.203  Feb\n",
       "2         0.274        0.187    0.263  Mar\n",
       "3         0.293        0.184    0.186  Apr"
      ]
     },
     "execution_count": 17,
     "metadata": {},
     "output_type": "execute_result"
    }
   ],
   "source": [
    "Name = ['chinesevirus','coronavirus','covid19']\n",
    "chinesevirus_ratio = numpy.divide(chinesevirus_post, chinesevirus_total_post)\n",
    "coronavirus_ratio = numpy.divide(coronavirus_post, coronavirus_total_post)\n",
    "covid19_ratio = numpy.divide(covid19_post, covid19_total_post)\n",
    "ratio_list = [chinesevirus_ratio,coronavirus_ratio,covid19_ratio]\n",
    "df_new = pandas.DataFrame(ratio_list)\n",
    "df2 = df_new\n",
    "df_new = df_new.transpose()\n",
    "df_new.columns = ['chinesevirus','coronavirus','covid19']\n",
    "df_new['Time'] = ['Jan', 'Feb', 'Mar', 'Apr']\n",
    "df_new"
   ]
  },
  {
   "cell_type": "markdown",
   "metadata": {},
   "source": [
    "We use the data in the previous data frame to create a line plot with counts of all three keywords to see the difference in the number of hate speech with those key word."
   ]
  },
  {
   "cell_type": "code",
   "execution_count": 18,
   "metadata": {},
   "outputs": [
    {
     "data": {
      "image/png": "[encoded data removed]",
      "text/plain": [
       "<Figure size 432x288 with 1 Axes>"
      ]
     },
     "metadata": {
      "needs_background": "light"
     },
     "output_type": "display_data"
    }
   ],
   "source": [
    "plt.plot(df.Time, df.chinesevirus, label='Chinese Virus')\n",
    "plt.plot(df.Time, df.coronavirus, label='Corona Virus')\n",
    "plt.plot(df.Time, df.covid19, label='COVID-19')\n",
    "plt.title('Hate Speech of search chinesevirus')\n",
    "plt.xlabel('Month')\n",
    "plt.ylabel('Number of Negative Post')\n",
    "plt.legend()\n",
    "plt.show()"
   ]
  },
  {
   "cell_type": "markdown",
   "metadata": {},
   "source": [
    "What we can see from the plot above, people who posts hate speech on Tweetwer are more likely to use \"Chinses virus\" other than \"COVID-19\" or \"corona virus\". This can be related with the phenomena of increasing of the number of cases of Asian people being bullied in the public and the lasting of racist to minority during the outbreak."
   ]
  },
  {
   "cell_type": "markdown",
   "metadata": {},
   "source": [
    "We also use the data to create three seperate bar plots.\n",
    "\n",
    "This one is for the keyword \"Chinses virus\""
   ]
  },
  {
   "cell_type": "code",
   "execution_count": 19,
   "metadata": {},
   "outputs": [
    {
     "data": {
      "text/plain": [
       "<matplotlib.axes._subplots.AxesSubplot at 0x2b135b90898>"
      ]
     },
     "execution_count": 19,
     "metadata": {},
     "output_type": "execute_result"
    },
    {
     "data": {
      "image/png": "[encoded data removed]",
      "text/plain": [
       "<Figure size 432x288 with 1 Axes>"
      ]
     },
     "metadata": {
      "needs_background": "light"
     },
     "output_type": "display_data"
    }
   ],
   "source": [
    "plt.title('Hate Speech of search chinese virus')\n",
    "sns.barplot(x='Time',y='chinesevirus',data=df)"
   ]
  },
  {
   "cell_type": "markdown",
   "metadata": {},
   "source": [
    "From this plot, it is clear that the number of hate speech with key word \"Chinese virus\" is increasing continuosly. One of the reason can be the president Donald Trump using \"Chinses virus\" in his posts on Tweet, which inspired more people to use this word to \"humuliate\" China. \n",
    "\n",
    "The next plot is for the keyword \"Corona Virus\"."
   ]
  },
  {
   "cell_type": "code",
   "execution_count": 20,
   "metadata": {},
   "outputs": [
    {
     "data": {
      "text/plain": [
       "<matplotlib.axes._subplots.AxesSubplot at 0x2b1371be400>"
      ]
     },
     "execution_count": 20,
     "metadata": {},
     "output_type": "execute_result"
    },
    {
     "data": {
      "image/png": "[encoded data removed]",
      "text/plain": [
       "<Figure size 432x288 with 1 Axes>"
      ]
     },
     "metadata": {
      "needs_background": "light"
     },
     "output_type": "display_data"
    }
   ],
   "source": [
    "plt.title('Hate Speech of search Corona Virus')\n",
    "sns.barplot(x='Time',y='coronavirus',data=df)"
   ]
  },
  {
   "cell_type": "markdown",
   "metadata": {},
   "source": [
    "From this plot, it is easy to see that the number of hate speech about corona virus is decreasing.\n",
    "\n",
    "The next plot is for the keyword \"COVID-19\"."
   ]
  },
  {
   "cell_type": "code",
   "execution_count": 21,
   "metadata": {},
   "outputs": [
    {
     "data": {
      "text/plain": [
       "<matplotlib.axes._subplots.AxesSubplot at 0x2b135d71908>"
      ]
     },
     "execution_count": 21,
     "metadata": {},
     "output_type": "execute_result"
    },
    {
     "data": {
      "image/png": "[encoded data removed]",
      "text/plain": [
       "<Figure size 432x288 with 1 Axes>"
      ]
     },
     "metadata": {
      "needs_background": "light"
     },
     "output_type": "display_data"
    }
   ],
   "source": [
    "plt.title('Hate Speech of search covid-19')\n",
    "sns.barplot(x='Time',y='covid19',data=df)"
   ]
  },
  {
   "cell_type": "markdown",
   "metadata": {},
   "source": [
    "The using of the word \"COVID-19\" incresed in the first two month of the year and reached a peak in March, then decreased for the following month."
   ]
  },
  {
   "cell_type": "markdown",
   "metadata": {},
   "source": [
    "In conclusion, the hate speech about Corona Virus is different by months. In January, most hate speech used \"corona virus\" to secribe the virus. In Febuary, more people started to use \"Chinese virus\" and COVID-19 to describe it since it has been officially named \"COVID-19\" and more people in America start realize the danger can be caused by the virus and majority of people start to assuming the virus start from Wuhan, China. In March, the use of \"COVID-19\" reached a peak and \"Chinese virus\" is still increasing since the outbreak and the shutting down of the public places. In April, the number of the use of \"Chinese virus\" is much higher than any other words can show the quarantine makes some people be much more aggressive and these can be proved by the procession happened these days. "
   ]
  },
  {
   "cell_type": "markdown",
   "metadata": {},
   "source": [
    "To make the analysis easier, we follow the suggestion and change the data to normalized form."
   ]
  },
  {
   "cell_type": "code",
   "execution_count": 22,
   "metadata": {},
   "outputs": [
    {
     "data": {
      "image/png": "[encoded data removed]",
      "text/plain": [
       "<Figure size 432x288 with 1 Axes>"
      ]
     },
     "metadata": {
      "needs_background": "light"
     },
     "output_type": "display_data"
    }
   ],
   "source": [
    "plt.plot(df_new.Time, df_new.chinesevirus, label='Chinese Virus')\n",
    "plt.plot(df_new.Time, df_new.coronavirus, label='Corona Virus')\n",
    "plt.plot(df_new.Time, df_new.covid19, label='COVID-19')\n",
    "plt.title('Hate Speech of search chinesevirus by ratio')\n",
    "plt.xlabel('Month')\n",
    "plt.ylabel('Number of Negative Post Ratio')\n",
    "plt.legend()\n",
    "plt.show()"
   ]
  },
  {
   "cell_type": "markdown",
   "metadata": {},
   "source": [
    "While looking at the ratio from the output, it is easy to find that the chance of public reading a post with hate speech from 1000 in April is much higher than the other months. As we have metioned in our presentation, trends in hate crimes around the world echo changes in the political climate, and that social media can magnify discord. At their most extreme, rumors and invective disseminated online have contributed to violence ranging from lynchings to ethnic cleansing. Nowadays, in multiple regions in the U.S., thousands of Trump's supportters are outside and stay together in front of the government buildings to defent the government and support Donald Trump. Even though we are not very clear about how to support and defend their government at the same time. These protest can be a very specific sign of the result which is brought by the increasing of the number of hatespeech on Internet. In the futhur, none of us can predict what is going to happen. Can the spearding of virus be ever controlled in the futher? Will Donal Trump quit his job because he do not do a great job during thees months? The only thing we know is that if he hate speech can not be controlled well, the protet will on day, eventrually, become a national wide violence towards the minorities in America. "
   ]
  },
  {
   "cell_type": "markdown",
   "metadata": {},
   "source": [
    "### Major Change to Part 1\n",
    "We did not change anything in Part 1, we only created all the csv files in part 1 and did all analysis in part 2. Nothing conflict in these two parts so nothing changed to Part 1."
   ]
  },
  {
   "cell_type": "markdown",
   "metadata": {},
   "source": [
    "### What we tried"
   ]
  },
  {
   "cell_type": "markdown",
   "metadata": {},
   "source": [
    "We tried the following way but this is less accurate since it contains a lot of negative words."
   ]
  },
  {
   "cell_type": "code",
   "execution_count": 32,
   "metadata": {},
   "outputs": [],
   "source": [
    "#analyzer = SentimentIntensityAnalyzer()\n",
    "#def getHateSpeech(line):\n",
    "#    vs = analyzer.polarity_scores(line)\n",
    "#    if vs['neg'] > 0.0:\n",
    "#        return True"
   ]
  },
  {
   "cell_type": "markdown",
   "metadata": {},
   "source": [
    "### Contribution\n",
    "#### Part 1\n",
    "* Posts with specific key words gathered by Shan Wu.\n",
    "* Posts by dates seperated by Elsa Tseng.\n",
    "* Report written by Xumanning Luo.\n",
    "\n",
    "#### Part 2\n",
    "* Numbers of hate speech counted by Shan Wu.\n",
    "* Data visulazied by Elsa Tseng.\n",
    "* Report written by Xumanning Luo.\n",
    "\n",
    "#### Part 3\n",
    "* Data normalized by Shan Wu.\n",
    "* Report updated by Xumanning Luo."
   ]
  }
 ],
 "metadata": {
  "kernelspec": {
   "display_name": "Python 3",
   "language": "python",
   "name": "python3"
  },
  "language_info": {
   "codemirror_mode": {
    "name": "ipython",
    "version": 3
   },
   "file_extension": ".py",
   "mimetype": "text/x-python",
   "name": "python",
   "nbconvert_exporter": "python",
   "pygments_lexer": "ipython3",
   "version": "3.7.4"
  }
 },
 "nbformat": 4,
 "nbformat_minor": 2
}
